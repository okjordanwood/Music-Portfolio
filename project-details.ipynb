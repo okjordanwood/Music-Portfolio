Building Blocks of Web App:
    * UI - how users will consume and interact with app
    * Routing - how users navigate between different parts of the app
    * Data Fetching - where your data lives and how to get it
    * Rendering - when and where you render static or dynamic content
    * Integrations - what third-party services you use (for CMS, auth, payment, etc.) and how you connect to them
    * Performance - how to optimize your app for end-users
    * Scalability - how your app adapts as your team, data, and traffic grow
    * Developer Experience - your team's experience building and maintaining your app